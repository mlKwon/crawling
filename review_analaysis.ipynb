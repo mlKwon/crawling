{
 "cells": [
  {
   "cell_type": "code",
   "execution_count": 1,
   "metadata": {},
   "outputs": [],
   "source": [
    "import pandas as pd\n",
    "import numpy as np\n",
    "import os, glob, gc\n",
    "from copy import deepcopy as dc\n",
    "\n",
    "os.chdir('G:/내 드라이브/numbuzin')"
   ]
  },
  {
   "cell_type": "code",
   "execution_count": 2,
   "metadata": {},
   "outputs": [
    {
     "data": {
      "text/plain": [
       "country\n",
       "Canada       4\n",
       "Germany      2\n",
       "India        1\n",
       "Japan      192\n",
       "Sweden       1\n",
       "Name: title, dtype: int64"
      ]
     },
     "metadata": {},
     "output_type": "display_data"
    },
    {
     "data": {
      "text/html": [
       "<div>\n",
       "<style scoped>\n",
       "    .dataframe tbody tr th:only-of-type {\n",
       "        vertical-align: middle;\n",
       "    }\n",
       "\n",
       "    .dataframe tbody tr th {\n",
       "        vertical-align: top;\n",
       "    }\n",
       "\n",
       "    .dataframe thead th {\n",
       "        text-align: right;\n",
       "    }\n",
       "</style>\n",
       "<table border=\"1\" class=\"dataframe\">\n",
       "  <thead>\n",
       "    <tr style=\"text-align: right;\">\n",
       "      <th></th>\n",
       "      <th>prd_type</th>\n",
       "      <th>prd_name</th>\n",
       "      <th>title</th>\n",
       "      <th>star</th>\n",
       "      <th>review</th>\n",
       "      <th>date</th>\n",
       "      <th>country</th>\n",
       "    </tr>\n",
       "  </thead>\n",
       "  <tbody>\n",
       "    <tr>\n",
       "      <th>672</th>\n",
       "      <td>SERUM</td>\n",
       "      <td>numbuzin No.4 Collagen 73% Pudding Serum | Wri...</td>\n",
       "      <td>Texture agreable</td>\n",
       "      <td>4.0</td>\n",
       "      <td>Rafraîchissante, bon produit.</td>\n",
       "      <td>November 28, 2023</td>\n",
       "      <td>Canada</td>\n",
       "    </tr>\n",
       "    <tr>\n",
       "      <th>676</th>\n",
       "      <td>SERUM</td>\n",
       "      <td>numbuzin No.4 Collagen 73% Pudding Serum | Wri...</td>\n",
       "      <td>Great Jelly type moisturizer!</td>\n",
       "      <td>5.0</td>\n",
       "      <td>Great Jelly type moisturizing essence with dee...</td>\n",
       "      <td>May 15, 2023</td>\n",
       "      <td>Canada</td>\n",
       "    </tr>\n",
       "    <tr>\n",
       "      <th>677</th>\n",
       "      <td>SERUM</td>\n",
       "      <td>numbuzin No.4 Collagen 73% Pudding Serum | Wri...</td>\n",
       "      <td>It works!</td>\n",
       "      <td>5.0</td>\n",
       "      <td>Satisfied with the purchase. Will buy again.</td>\n",
       "      <td>May 25, 2023</td>\n",
       "      <td>Canada</td>\n",
       "    </tr>\n",
       "    <tr>\n",
       "      <th>1454</th>\n",
       "      <td>CLEANSER</td>\n",
       "      <td>numbuzin No.1 Easy Peasy Cleansing Oil | Makeu...</td>\n",
       "      <td>work good with whiteheads</td>\n",
       "      <td>5.0</td>\n",
       "      <td>I have white head it work well with it</td>\n",
       "      <td>October 18, 2023</td>\n",
       "      <td>Canada</td>\n",
       "    </tr>\n",
       "  </tbody>\n",
       "</table>\n",
       "</div>"
      ],
      "text/plain": [
       "      prd_type                                           prd_name  \\\n",
       "672      SERUM  numbuzin No.4 Collagen 73% Pudding Serum | Wri...   \n",
       "676      SERUM  numbuzin No.4 Collagen 73% Pudding Serum | Wri...   \n",
       "677      SERUM  numbuzin No.4 Collagen 73% Pudding Serum | Wri...   \n",
       "1454  CLEANSER  numbuzin No.1 Easy Peasy Cleansing Oil | Makeu...   \n",
       "\n",
       "                              title  star  \\\n",
       "672                Texture agreable   4.0   \n",
       "676   Great Jelly type moisturizer!   5.0   \n",
       "677                       It works!   5.0   \n",
       "1454      work good with whiteheads   5.0   \n",
       "\n",
       "                                                 review               date  \\\n",
       "672                       Rafraîchissante, bon produit.  November 28, 2023   \n",
       "676   Great Jelly type moisturizing essence with dee...       May 15, 2023   \n",
       "677        Satisfied with the purchase. Will buy again.       May 25, 2023   \n",
       "1454             I have white head it work well with it   October 18, 2023   \n",
       "\n",
       "     country  \n",
       "672   Canada  \n",
       "676   Canada  \n",
       "677   Canada  \n",
       "1454  Canada  "
      ]
     },
     "execution_count": 2,
     "metadata": {},
     "output_type": "execute_result"
    }
   ],
   "source": [
    "dat = pd.read_csv('amazon_numbuzin_review.csv')\n",
    "display(dat.loc[~dat.country.str.contains('United States')].groupby('country')['title'].count())\n",
    "\n",
    "dat.loc[dat.country==\"Canada\"]"
   ]
  },
  {
   "cell_type": "code",
   "execution_count": 4,
   "metadata": {},
   "outputs": [
    {
     "data": {
      "text/plain": [
       "prd_type\n",
       "CLEANSER      204\n",
       "CREAM         356\n",
       "SERUM         672\n",
       "SHEET MASK    189\n",
       "SUNSCREEN     100\n",
       "TONE UP       173\n",
       "TONER         344\n",
       "Name: prd_name, dtype: int64"
      ]
     },
     "execution_count": 4,
     "metadata": {},
     "output_type": "execute_result"
    }
   ],
   "source": [
    "dat.groupby('prd_type')['prd_name'].count()"
   ]
  },
  {
   "cell_type": "code",
   "execution_count": 9,
   "metadata": {},
   "outputs": [
    {
     "data": {
      "text/html": [
       "<div>\n",
       "<style scoped>\n",
       "    .dataframe tbody tr th:only-of-type {\n",
       "        vertical-align: middle;\n",
       "    }\n",
       "\n",
       "    .dataframe tbody tr th {\n",
       "        vertical-align: top;\n",
       "    }\n",
       "\n",
       "    .dataframe thead th {\n",
       "        text-align: right;\n",
       "    }\n",
       "</style>\n",
       "<table border=\"1\" class=\"dataframe\">\n",
       "  <thead>\n",
       "    <tr style=\"text-align: right;\">\n",
       "      <th></th>\n",
       "      <th>prd_type</th>\n",
       "      <th>prd_name</th>\n",
       "      <th>title</th>\n",
       "      <th>star</th>\n",
       "      <th>review</th>\n",
       "      <th>date</th>\n",
       "      <th>country</th>\n",
       "    </tr>\n",
       "  </thead>\n",
       "  <tbody>\n",
       "    <tr>\n",
       "      <th>103</th>\n",
       "      <td>TONER</td>\n",
       "      <td>numbuzin No.3 Super Glowing Essence Toner | Fe...</td>\n",
       "      <td>GREAT product!</td>\n",
       "      <td>5.0</td>\n",
       "      <td>Love the simplicity of this product. Great ing...</td>\n",
       "      <td>September 14, 2023</td>\n",
       "      <td>the United States</td>\n",
       "    </tr>\n",
       "  </tbody>\n",
       "</table>\n",
       "</div>"
      ],
      "text/plain": [
       "    prd_type                                           prd_name  \\\n",
       "103    TONER  numbuzin No.3 Super Glowing Essence Toner | Fe...   \n",
       "\n",
       "              title  star                                             review  \\\n",
       "103  GREAT product!   5.0  Love the simplicity of this product. Great ing...   \n",
       "\n",
       "                   date            country  \n",
       "103  September 14, 2023  the United States  "
      ]
     },
     "execution_count": 9,
     "metadata": {},
     "output_type": "execute_result"
    }
   ],
   "source": [
    "dat.loc[(dat.prd_type=='TONER') & (dat.country.str.contains('States'))].review.tolist()[100]\n",
    "dat.loc[(dat.prd_type=='TONER') & (dat.country.str.contains('States'))].iloc[100:101]"
   ]
  },
  {
   "cell_type": "code",
   "execution_count": 14,
   "metadata": {},
   "outputs": [
    {
     "data": {
      "text/plain": [
       "'2.1.1+cpu'"
      ]
     },
     "execution_count": 14,
     "metadata": {},
     "output_type": "execute_result"
    }
   ],
   "source": [
    "torch.__version__"
   ]
  },
  {
   "cell_type": "code",
   "execution_count": 13,
   "metadata": {},
   "outputs": [
    {
     "name": "stdout",
     "output_type": "stream",
     "text": [
      "2.1.1+cpu\n",
      "False\n"
     ]
    }
   ],
   "source": [
    "import torch\n",
    "device = torch.device(\"cuda\")\n",
    "print(torch.__version__)\n",
    "print(torch.cuda.is_available())"
   ]
  },
  {
   "cell_type": "code",
   "execution_count": 21,
   "metadata": {},
   "outputs": [
    {
     "data": {
      "text/plain": [
       "<function nlp4beginner.more.np_test(a=None)>"
      ]
     },
     "execution_count": 21,
     "metadata": {},
     "output_type": "execute_result"
    }
   ],
   "source": [
    "from nlp4beginner import myfunc as mf\n",
    "from nlp4beginner import more\n",
    "\n",
    "# print(mf.sandra(1))\n",
    "\n",
    "more.np_test"
   ]
  }
 ],
 "metadata": {
  "kernelspec": {
   "display_name": "base",
   "language": "python",
   "name": "python3"
  },
  "language_info": {
   "codemirror_mode": {
    "name": "ipython",
    "version": 3
   },
   "file_extension": ".py",
   "mimetype": "text/x-python",
   "name": "python",
   "nbconvert_exporter": "python",
   "pygments_lexer": "ipython3",
   "version": "3.9.7"
  }
 },
 "nbformat": 4,
 "nbformat_minor": 2
}
